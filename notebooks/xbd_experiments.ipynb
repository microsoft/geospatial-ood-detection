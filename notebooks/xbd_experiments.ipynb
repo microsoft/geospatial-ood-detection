{
 "cells": [
  {
   "cell_type": "markdown",
   "metadata": {},
   "source": [
    "Copyright (c) 2024 Microsoft Corporation.\n",
    "\n",
    "Licensed under the MIT License"
   ]
  },
  {
   "cell_type": "markdown",
   "metadata": {},
   "source": [
    "Experimenting with `xBD` dataset under 5 settings:\n",
    "- Same Type Far: nepal_flood_post_midwest_flood_post\n",
    "- Same Type Close: santa-rosa-wildfire-post_woolsey-fire-pos\n",
    "- Different Type Far: hurricane-matthew_post_nepal_flood_post\n",
    "- Different Type Close: hurricane-matthew_mexico-earthquake\n",
    "- Pre Post: portugal-wildfire-pre-post\n",
    "\n",
    "For each, we perform: \n",
    "- layer benchmarking\n",
    "- activation extraction\n",
    "- `g` training and evaluation\n",
    "- `g_hat` training and evaluation\n",
    "- `g` and `g_hat` statistical significance test\n",
    "- `g` benchmark\n",
    "- clustering benchmark\n",
    "- num_cluster vs. `g` and `g_hat` performance investigation\n",
    "- activation space visualization    \n"
   ]
  },
  {
   "cell_type": "code",
   "execution_count": 1,
   "metadata": {},
   "outputs": [
    {
     "name": "stdout",
     "output_type": "stream",
     "text": [
      "CUDA available: True\n",
      "Number of GPUs: 2\n",
      "Current GPU: 0\n",
      "GPU Name: NVIDIA A100 80GB PCIe\n"
     ]
    }
   ],
   "source": [
    "import os\n",
    "import sys\n",
    "\n",
    "import torch\n",
    "\n",
    "sys.path.append(\"..\")\n",
    "from src.tardis.eurosat_xbd_utils import *\n",
    "from src.tardis.utils import *\n",
    "\n",
    "print(\"CUDA available:\", torch.cuda.is_available())\n",
    "print(\"Number of GPUs:\", torch.cuda.device_count())\n",
    "print(\"Current GPU:\", torch.cuda.current_device())\n",
    "print(\"GPU Name:\", torch.cuda.get_device_name(0))\n",
    "\n",
    "%load_ext autoreload\n",
    "%autoreload 2\n",
    "\n",
    "fixed_seed = 31\n",
    "set_seed(fixed_seed)"
   ]
  },
  {
   "cell_type": "code",
   "execution_count": 2,
   "metadata": {},
   "outputs": [],
   "source": [
    "# Define main directories for checkpoints and configs\n",
    "ckpt_main_dir = \"/data/dataood/exp_data/main_tardis/xbd_exp_logs\"\n",
    "config_main_dir = \"/ws/geospatial-ood-detection/configs/xbd/\"\n",
    "\n",
    "# Configuration paths\n",
    "same_far_config_path = f\"{config_main_dir}xbd_config_samedisaster_distant.yaml\"\n",
    "same_close_config_path = f\"{config_main_dir}xbd_config_samedisaster_close.yaml\"\n",
    "different_far_config_path = f\"{config_main_dir}xbd_config_differentdisaster_distant.yaml\"\n",
    "different_close_config_path = f\"{config_main_dir}xbd_config_differentdisaster_close.yaml\"\n",
    "pre_post_config_path = f\"{config_main_dir}xbd_config_prepost.yaml\"\n",
    "\n",
    "# Parameters\n",
    "collect_activations_from_layers = [\"encoder.layer2.0.conv1\"]\n",
    "getitem_keys = [\"image\", \"mask\"]\n",
    "n_batches_to_process = 2 # Set to ´None´ to process all the samples\n",
    "downsample_method = \"max_pool\"\n",
    "verbose = False\n",
    "device = \"cuda\" if torch.cuda.is_available() else \"cpu\"\n",
    "\n",
    "# Downsample methods\n",
    "downsample_methods = [\"avg_pool\", \"mean_std\", \"avg_pool\", \"max_pool\", \"nodownsample\"]\n",
    "downsample_benchmark = {}\n",
    "\n",
    "# Benchmark settings\n",
    "test_size = 0.2\n",
    "n_estimators = 100\n",
    "split_seed = 31\n",
    "fixed_classifier_seed = 31\n",
    "layer_benchmark = {}\n",
    "\n",
    "# Optuna settings\n",
    "n_optuna_trials = 20\n",
    "min_cluster = 2\n",
    "max_cluster_ratio = 0.3\n",
    "min_fraction = 0.01\n",
    "max_fraction = 0.2\n",
    "fixed_seed = 31"
   ]
  },
  {
   "cell_type": "markdown",
   "metadata": {},
   "source": [
    "# Different type - Close"
   ]
  },
  {
   "cell_type": "code",
   "execution_count": 3,
   "metadata": {},
   "outputs": [
    {
     "name": "stdout",
     "output_type": "stream",
     "text": [
      "Reading experiment from:  /data/dataood/exp_data/main_tardis/xbd_exp_logs/xview2_hurricane-matthew_mexico-earthquake_01/test_eval_results_xview2_hurricane-matthew_mexico-earthquake_01.json\n"
     ]
    },
    {
     "name": "stderr",
     "output_type": "stream",
     "text": [
      "/opt/conda/envs/ood/lib/python3.11/site-packages/lightning/pytorch/utilities/migration/utils.py:56: The loaded checkpoint was produced with Lightning v2.4.0, which is newer than your current Lightning version: v2.2.5\n",
      "INFO:torch.distributed.nn.jit.instantiator:Created a temporary directory at /tmp/tmpr4ih0_gb\n",
      "INFO:torch.distributed.nn.jit.instantiator:Writing /tmp/tmpr4ih0_gb/_remote_module_non_scriptable.py\n"
     ]
    },
    {
     "name": "stdout",
     "output_type": "stream",
     "text": [
      "Exp Results:\n",
      " {'test_results': [{'test_loss': 0.5736727118492126, 'test_MulticlassAccuracy': 0.7332066297531128, 'test_MulticlassJaccardIndex': 0.578789472579956}], 'best_model_path': '/data/dataood/exp_data/main_tardis/xbd_exp_logs/xview2_hurricane-matthew_mexico-earthquake_01/epoch=5-step=36.ckpt'}\n",
      "Model loaded and set to evaluation mode.\n",
      "Root /data/dataood/xview2/\n",
      "Loaded for disasters ID and OOD: 405 train, 193 test files.\n",
      "Loaded for disasters ID and OOD: 405 train, 193 test files.\n"
     ]
    }
   ],
   "source": [
    "model, cfg = get_model_config(different_close_config_path, ckpt_main_dir, device)\n",
    "datamodule, datamodule_train, datamodule_val, datamodule_test = prepare_datamodule(cfg)"
   ]
  },
  {
   "cell_type": "markdown",
   "metadata": {},
   "source": [
    "### Downsample Benchmark"
   ]
  },
  {
   "cell_type": "code",
   "execution_count": 4,
   "metadata": {
    "scrolled": true
   },
   "outputs": [
    {
     "name": "stdout",
     "output_type": "stream",
     "text": [
      "Running experiments for avg_pool downsample method.\n"
     ]
    },
    {
     "name": "stderr",
     "output_type": "stream",
     "text": [
      "100%|██████████| 2/2 [00:08<00:00,  4.36s/it]\n"
     ]
    },
    {
     "name": "stdout",
     "output_type": "stream",
     "text": [
      "Before downsampling, activations shape for layer encoder.layer2.0.conv1 : (64, 128, 64, 64)\n"
     ]
    },
    {
     "name": "stderr",
     "output_type": "stream",
     "text": [
      "100%|██████████| 2/2 [00:04<00:00,  2.21s/it]\n"
     ]
    },
    {
     "name": "stdout",
     "output_type": "stream",
     "text": [
      "Before downsampling, activations shape for layer encoder.layer2.0.conv1 : (64, 128, 64, 64)\n",
      "Run g experiment for downsample method: avg_pool\n",
      "Running experiments for mean_std downsample method.\n"
     ]
    },
    {
     "name": "stderr",
     "output_type": "stream",
     "text": [
      "100%|██████████| 2/2 [00:04<00:00,  2.05s/it]\n"
     ]
    },
    {
     "name": "stdout",
     "output_type": "stream",
     "text": [
      "Before downsampling, activations shape for layer encoder.layer2.0.conv1 : (64, 128, 64, 64)\n"
     ]
    },
    {
     "name": "stderr",
     "output_type": "stream",
     "text": [
      "100%|██████████| 2/2 [00:04<00:00,  2.28s/it]\n"
     ]
    },
    {
     "name": "stdout",
     "output_type": "stream",
     "text": [
      "Before downsampling, activations shape for layer encoder.layer2.0.conv1 : (64, 128, 64, 64)\n",
      "Run g experiment for downsample method: mean_std\n",
      "Running experiments for avg_pool downsample method.\n"
     ]
    },
    {
     "name": "stderr",
     "output_type": "stream",
     "text": [
      "100%|██████████| 2/2 [00:04<00:00,  2.00s/it]\n"
     ]
    },
    {
     "name": "stdout",
     "output_type": "stream",
     "text": [
      "Before downsampling, activations shape for layer encoder.layer2.0.conv1 : (64, 128, 64, 64)\n"
     ]
    },
    {
     "name": "stderr",
     "output_type": "stream",
     "text": [
      "100%|██████████| 2/2 [00:04<00:00,  2.23s/it]\n"
     ]
    },
    {
     "name": "stdout",
     "output_type": "stream",
     "text": [
      "Before downsampling, activations shape for layer encoder.layer2.0.conv1 : (64, 128, 64, 64)\n",
      "Run g experiment for downsample method: avg_pool\n",
      "Running experiments for max_pool downsample method.\n"
     ]
    },
    {
     "name": "stderr",
     "output_type": "stream",
     "text": [
      "100%|██████████| 2/2 [00:04<00:00,  2.03s/it]\n"
     ]
    },
    {
     "name": "stdout",
     "output_type": "stream",
     "text": [
      "Before downsampling, activations shape for layer encoder.layer2.0.conv1 : (64, 128, 64, 64)\n"
     ]
    },
    {
     "name": "stderr",
     "output_type": "stream",
     "text": [
      "100%|██████████| 2/2 [00:04<00:00,  2.14s/it]\n"
     ]
    },
    {
     "name": "stdout",
     "output_type": "stream",
     "text": [
      "Before downsampling, activations shape for layer encoder.layer2.0.conv1 : (64, 128, 64, 64)\n",
      "Run g experiment for downsample method: max_pool\n",
      "Running experiments for nodownsample downsample method.\n"
     ]
    },
    {
     "name": "stderr",
     "output_type": "stream",
     "text": [
      "100%|██████████| 2/2 [00:03<00:00,  1.99s/it]\n"
     ]
    },
    {
     "name": "stdout",
     "output_type": "stream",
     "text": [
      "Before downsampling, activations shape for layer encoder.layer2.0.conv1 : (64, 128, 64, 64)\n"
     ]
    },
    {
     "name": "stderr",
     "output_type": "stream",
     "text": [
      "100%|██████████| 2/2 [00:04<00:00,  2.14s/it]\n"
     ]
    },
    {
     "name": "stdout",
     "output_type": "stream",
     "text": [
      "Before downsampling, activations shape for layer encoder.layer2.0.conv1 : (64, 128, 64, 64)\n",
      "Run g experiment for downsample method: nodownsample\n"
     ]
    }
   ],
   "source": [
    "nametag = (\n",
    "    cfg.id_ood_disaster[0][\"disaster_name\"]\n",
    "    + \"-\"\n",
    "    + cfg.id_ood_disaster[0][\"pre-post\"]\n",
    "    + \"_\"\n",
    "    + cfg.id_ood_disaster[1][\"disaster_name\"]\n",
    "    + \"-\"\n",
    "    + cfg.id_ood_disaster[1][\"pre-post\"]\n",
    ")\n",
    "\n",
    "for downsample in downsample_methods:\n",
    "    print(f\"Running experiments for {downsample} downsample method.\")\n",
    "    X, y, test_property_lengths = create_feature_matrix_and_labels(\n",
    "        model=model,\n",
    "        dm=datamodule,\n",
    "        train_dataloader=datamodule_train,\n",
    "        test_dataloader=datamodule_test,\n",
    "        layer_names=collect_activations_from_layers,\n",
    "        device=device,\n",
    "        getitem_keys=getitem_keys,\n",
    "        n_batches_to_process=n_batches_to_process,\n",
    "        downsample_method=downsample,\n",
    "        verbose=verbose,\n",
    "    )\n",
    "    print(\"Run g experiment for downsample method:\", downsample)\n",
    "    g_benchmark = run_g_experiment(\n",
    "        X, y, split_seed, test_size, n_estimators, fixed_classifier_seed, clf=None\n",
    "    )\n",
    "    downsample_benchmark[downsample] = g_benchmark"
   ]
  },
  {
   "cell_type": "code",
   "execution_count": 5,
   "metadata": {
    "scrolled": true
   },
   "outputs": [
    {
     "data": {
      "image/png": "[encoded data removed]",
      "text/plain": [
       "<Figure size 1000x600 with 1 Axes>"
      ]
     },
     "metadata": {},
     "output_type": "display_data"
    }
   ],
   "source": [
    "plot_downsample_benchmark(downsample_benchmark, nametag)"
   ]
  },
  {
   "cell_type": "markdown",
   "metadata": {},
   "source": [
    "### Layer Benchmark"
   ]
  },
  {
   "cell_type": "code",
   "execution_count": 6,
   "metadata": {},
   "outputs": [
    {
     "name": "stdout",
     "output_type": "stream",
     "text": [
      "Selected 10 layers: [['encoder.conv1'], ['encoder.layer1.0.conv2'], ['decoder.blocks.1.conv2'], ['encoder.layer2.1.conv3'], ['decoder.blocks.0.conv1.1'], ['encoder.layer2.3.conv1'], ['encoder.layer1.1.conv3'], ['encoder.layer2.2.conv3'], ['decoder.blocks.2.conv2'], ['decoder.blocks.4.conv2.2']]\n"
     ]
    }
   ],
   "source": [
    "all_layer_names = get_all_layer_names(model)\n",
    "selected_layers = pick_random_layers(all_layer_names, 10)\n",
    "selected_layers = [[layer] for layer in selected_layers]\n",
    "print(\"Selected 10 layers:\", selected_layers)"
   ]
  },
  {
   "cell_type": "code",
   "execution_count": 7,
   "metadata": {
    "scrolled": true
   },
   "outputs": [
    {
     "name": "stdout",
     "output_type": "stream",
     "text": [
      "Running experiments for layer ['encoder.conv1']\n"
     ]
    },
    {
     "name": "stderr",
     "output_type": "stream",
     "text": [
      "100%|██████████| 2/2 [00:05<00:00,  2.62s/it]\n"
     ]
    },
    {
     "name": "stdout",
     "output_type": "stream",
     "text": [
      "Before downsampling, activations shape for layer encoder.conv1 : (64, 64, 128, 128)\n"
     ]
    },
    {
     "name": "stderr",
     "output_type": "stream",
     "text": [
      "100%|██████████| 2/2 [00:04<00:00,  2.22s/it]\n"
     ]
    },
    {
     "name": "stdout",
     "output_type": "stream",
     "text": [
      "Before downsampling, activations shape for layer encoder.conv1 : (64, 64, 128, 128)\n",
      "Running experiments for layer ['encoder.layer1.0.conv2']\n"
     ]
    },
    {
     "name": "stderr",
     "output_type": "stream",
     "text": [
      "100%|██████████| 2/2 [00:06<00:00,  3.38s/it]\n"
     ]
    },
    {
     "name": "stdout",
     "output_type": "stream",
     "text": [
      "Before downsampling, activations shape for layer encoder.layer1.0.conv2 : (64, 64, 64, 64)\n"
     ]
    },
    {
     "name": "stderr",
     "output_type": "stream",
     "text": [
      "100%|██████████| 2/2 [00:06<00:00,  3.39s/it]\n"
     ]
    },
    {
     "name": "stdout",
     "output_type": "stream",
     "text": [
      "Before downsampling, activations shape for layer encoder.layer1.0.conv2 : (64, 64, 64, 64)\n",
      "Running experiments for layer ['decoder.blocks.1.conv2']\n"
     ]
    },
    {
     "name": "stderr",
     "output_type": "stream",
     "text": [
      "100%|██████████| 2/2 [00:08<00:00,  4.13s/it]\n"
     ]
    },
    {
     "name": "stdout",
     "output_type": "stream",
     "text": [
      "Before downsampling, activations shape for layer decoder.blocks.1.conv2 : (64, 128, 32, 32)\n"
     ]
    },
    {
     "name": "stderr",
     "output_type": "stream",
     "text": [
      "100%|██████████| 2/2 [00:07<00:00,  3.65s/it]\n"
     ]
    },
    {
     "name": "stdout",
     "output_type": "stream",
     "text": [
      "Before downsampling, activations shape for layer decoder.blocks.1.conv2 : (64, 128, 32, 32)\n",
      "Running experiments for layer ['encoder.layer2.1.conv3']\n"
     ]
    },
    {
     "name": "stderr",
     "output_type": "stream",
     "text": [
      "100%|██████████| 2/2 [00:03<00:00,  1.95s/it]\n"
     ]
    },
    {
     "name": "stdout",
     "output_type": "stream",
     "text": [
      "Before downsampling, activations shape for layer encoder.layer2.1.conv3 : (64, 512, 32, 32)\n"
     ]
    },
    {
     "name": "stderr",
     "output_type": "stream",
     "text": [
      "100%|██████████| 2/2 [00:04<00:00,  2.25s/it]\n"
     ]
    },
    {
     "name": "stdout",
     "output_type": "stream",
     "text": [
      "Before downsampling, activations shape for layer encoder.layer2.1.conv3 : (64, 512, 32, 32)\n",
      "Running experiments for layer ['decoder.blocks.0.conv1.1']\n"
     ]
    },
    {
     "name": "stderr",
     "output_type": "stream",
     "text": [
      "100%|██████████| 2/2 [00:03<00:00,  1.98s/it]\n"
     ]
    },
    {
     "name": "stdout",
     "output_type": "stream",
     "text": [
      "Before downsampling, activations shape for layer decoder.blocks.0.conv1.1 : (64, 256, 16, 16)\n"
     ]
    },
    {
     "name": "stderr",
     "output_type": "stream",
     "text": [
      "100%|██████████| 2/2 [00:04<00:00,  2.12s/it]\n"
     ]
    },
    {
     "name": "stdout",
     "output_type": "stream",
     "text": [
      "Before downsampling, activations shape for layer decoder.blocks.0.conv1.1 : (64, 256, 16, 16)\n",
      "Running experiments for layer ['encoder.layer2.3.conv1']\n"
     ]
    },
    {
     "name": "stderr",
     "output_type": "stream",
     "text": [
      "100%|██████████| 2/2 [00:04<00:00,  2.00s/it]\n"
     ]
    },
    {
     "name": "stdout",
     "output_type": "stream",
     "text": [
      "Before downsampling, activations shape for layer encoder.layer2.3.conv1 : (64, 128, 32, 32)\n"
     ]
    },
    {
     "name": "stderr",
     "output_type": "stream",
     "text": [
      "100%|██████████| 2/2 [00:04<00:00,  2.14s/it]\n"
     ]
    },
    {
     "name": "stdout",
     "output_type": "stream",
     "text": [
      "Before downsampling, activations shape for layer encoder.layer2.3.conv1 : (64, 128, 32, 32)\n",
      "Running experiments for layer ['encoder.layer1.1.conv3']\n"
     ]
    },
    {
     "name": "stderr",
     "output_type": "stream",
     "text": [
      "100%|██████████| 2/2 [00:03<00:00,  1.98s/it]\n"
     ]
    },
    {
     "name": "stdout",
     "output_type": "stream",
     "text": [
      "Before downsampling, activations shape for layer encoder.layer1.1.conv3 : (64, 256, 64, 64)\n"
     ]
    },
    {
     "name": "stderr",
     "output_type": "stream",
     "text": [
      "100%|██████████| 2/2 [00:04<00:00,  2.43s/it]\n"
     ]
    },
    {
     "name": "stdout",
     "output_type": "stream",
     "text": [
      "Before downsampling, activations shape for layer encoder.layer1.1.conv3 : (64, 256, 64, 64)\n",
      "Running experiments for layer ['encoder.layer2.2.conv3']\n"
     ]
    },
    {
     "name": "stderr",
     "output_type": "stream",
     "text": [
      "100%|██████████| 2/2 [00:03<00:00,  1.93s/it]\n"
     ]
    },
    {
     "name": "stdout",
     "output_type": "stream",
     "text": [
      "Before downsampling, activations shape for layer encoder.layer2.2.conv3 : (64, 512, 32, 32)\n"
     ]
    },
    {
     "name": "stderr",
     "output_type": "stream",
     "text": [
      "100%|██████████| 2/2 [00:04<00:00,  2.19s/it]\n"
     ]
    },
    {
     "name": "stdout",
     "output_type": "stream",
     "text": [
      "Before downsampling, activations shape for layer encoder.layer2.2.conv3 : (64, 512, 32, 32)\n",
      "Running experiments for layer ['decoder.blocks.2.conv2']\n"
     ]
    },
    {
     "name": "stderr",
     "output_type": "stream",
     "text": [
      "100%|██████████| 2/2 [00:04<00:00,  2.28s/it]\n"
     ]
    },
    {
     "name": "stdout",
     "output_type": "stream",
     "text": [
      "Before downsampling, activations shape for layer decoder.blocks.2.conv2 : (64, 64, 64, 64)\n"
     ]
    },
    {
     "name": "stderr",
     "output_type": "stream",
     "text": [
      "100%|██████████| 2/2 [00:04<00:00,  2.37s/it]\n"
     ]
    },
    {
     "name": "stdout",
     "output_type": "stream",
     "text": [
      "Before downsampling, activations shape for layer decoder.blocks.2.conv2 : (64, 64, 64, 64)\n",
      "Running experiments for layer ['decoder.blocks.4.conv2.2']\n"
     ]
    },
    {
     "name": "stderr",
     "output_type": "stream",
     "text": [
      "100%|██████████| 2/2 [00:04<00:00,  2.07s/it]\n"
     ]
    },
    {
     "name": "stdout",
     "output_type": "stream",
     "text": [
      "Before downsampling, activations shape for layer decoder.blocks.4.conv2.2 : (64, 16, 256, 256)\n"
     ]
    },
    {
     "name": "stderr",
     "output_type": "stream",
     "text": [
      "100%|██████████| 2/2 [00:04<00:00,  2.19s/it]\n"
     ]
    },
    {
     "name": "stdout",
     "output_type": "stream",
     "text": [
      "Before downsampling, activations shape for layer decoder.blocks.4.conv2.2 : (64, 16, 256, 256)\n"
     ]
    }
   ],
   "source": [
    "for lyr in selected_layers:\n",
    "    print(f\"Running experiments for layer {lyr}\")\n",
    "    X, y, test_property_lengths = create_feature_matrix_and_labels(\n",
    "        model=model,\n",
    "        dm=datamodule,\n",
    "        train_dataloader=datamodule_train,\n",
    "        test_dataloader=datamodule_test,\n",
    "        layer_names=lyr,\n",
    "        device=device,\n",
    "        getitem_keys=getitem_keys,\n",
    "        n_batches_to_process=n_batches_to_process,\n",
    "        downsample_method=downsample_method,\n",
    "        verbose=verbose,\n",
    "    )\n",
    "\n",
    "    g_benchmark = run_g_experiment(\n",
    "        X, y, split_seed, test_size, n_estimators, fixed_classifier_seed, clf=None\n",
    "    )\n",
    "\n",
    "    layer_benchmark[str(lyr)] = g_benchmark"
   ]
  },
  {
   "cell_type": "code",
   "execution_count": 8,
   "metadata": {},
   "outputs": [
    {
     "data": {
      "image/png": "[encoded data removed]",
      "text/plain": [
       "<Figure size 1000x600 with 1 Axes>"
      ]
     },
     "metadata": {},
     "output_type": "display_data"
    }
   ],
   "source": [
    "plot_layer_benchmark(layer_benchmark, all_layer_names, nametag)"
   ]
  },
  {
   "cell_type": "markdown",
   "metadata": {},
   "source": [
    "### Property extraction"
   ]
  },
  {
   "cell_type": "code",
   "execution_count": 9,
   "metadata": {},
   "outputs": [],
   "source": [
    "all_layer_names = get_all_layer_names(model)"
   ]
  },
  {
   "cell_type": "code",
   "execution_count": 10,
   "metadata": {},
   "outputs": [
    {
     "name": "stderr",
     "output_type": "stream",
     "text": [
      "100%|██████████| 2/2 [00:03<00:00,  1.98s/it]\n"
     ]
    },
    {
     "name": "stdout",
     "output_type": "stream",
     "text": [
      "Before downsampling, activations shape for layer encoder.layer2.0.conv1 : (64, 128, 64, 64)\n"
     ]
    },
    {
     "name": "stderr",
     "output_type": "stream",
     "text": [
      "100%|██████████| 2/2 [00:04<00:00,  2.16s/it]"
     ]
    },
    {
     "name": "stdout",
     "output_type": "stream",
     "text": [
      "Before downsampling, activations shape for layer encoder.layer2.0.conv1 : (64, 128, 64, 64)\n"
     ]
    },
    {
     "name": "stderr",
     "output_type": "stream",
     "text": [
      "\n"
     ]
    }
   ],
   "source": [
    "collect_activations_from_layers = [\"encoder.layer2.0.conv1\"]\n",
    "device = \"cuda\" if torch.cuda.is_available() else \"cpu\"\n",
    "getitem_keys = [\"image\", \"mask\"]\n",
    "n_batches_to_process = n_batches_to_process\n",
    "downsample_method = \"avg_pool\"\n",
    "verbose = False\n",
    "\n",
    "X, y, test_property_lengths = create_feature_matrix_and_labels(\n",
    "    model=model,\n",
    "    dm=datamodule,\n",
    "    train_dataloader=datamodule_train,\n",
    "    test_dataloader=datamodule_test,\n",
    "    layer_names=collect_activations_from_layers,\n",
    "    device=device,\n",
    "    getitem_keys=getitem_keys,\n",
    "    n_batches_to_process=n_batches_to_process,\n",
    "    downsample_method=downsample_method,\n",
    "    verbose=verbose,\n",
    ")"
   ]
  },
  {
   "cell_type": "markdown",
   "metadata": {},
   "source": [
    "### g confidence interval"
   ]
  },
  {
   "cell_type": "code",
   "execution_count": 11,
   "metadata": {},
   "outputs": [
    {
     "name": "stdout",
     "output_type": "stream",
     "text": [
      "random_state for split_seed: 7365\n",
      "random_state for split_seed: 7093\n",
      "random_state for split_seed: 2945\n",
      "random_state for split_seed: 7567\n",
      "random_state for split_seed: 5159\n",
      "random_state for split_seed: 6818\n",
      "random_state for split_seed: 4403\n",
      "random_state for split_seed: 2368\n",
      "random_state for split_seed: 4349\n",
      "random_state for split_seed: 2873\n"
     ]
    }
   ],
   "source": [
    "g_benchmark = run_multiple_experiments_g(\n",
    "    X, y, test_size, n_estimators, random_seed=True\n",
    ")"
   ]
  },
  {
   "cell_type": "code",
   "execution_count": 12,
   "metadata": {},
   "outputs": [
    {
     "data": {
      "text/plain": [
       "{'baseline_accuracy': (0.9038461538461539, 0.04152456599327423),\n",
       " 'baseline_fpr95': (0.1266198507374978, 0.0815018742842373),\n",
       " 'baseline_roc_auc': (0.9576640252658353, 0.01735911762795821)}"
      ]
     },
     "execution_count": 12,
     "metadata": {},
     "output_type": "execute_result"
    }
   ],
   "source": [
    "# Calculate confidence intervals for the specified columns\n",
    "columns_of_interest = [\"baseline_accuracy\", \"baseline_fpr95\", \"baseline_roc_auc\"]\n",
    "confidence_intervals_g = calculate_confidence_intervals(\n",
    "    g_benchmark, columns_of_interest\n",
    ")\n",
    "confidence_intervals_g"
   ]
  },
  {
   "cell_type": "markdown",
   "metadata": {},
   "source": [
    "### g_hat"
   ]
  },
  {
   "cell_type": "code",
   "execution_count": 13,
   "metadata": {
    "scrolled": true
   },
   "outputs": [
    {
     "name": "stderr",
     "output_type": "stream",
     "text": [
      "[I 2024-12-22 19:57:49,534] A new study created in memory with name: no-name-7e98950f-5a9d-47de-8f6f-df52908f5b73\n",
      "[I 2024-12-22 19:57:49,614] Trial 0 finished with value: -0.6760916628535989 and parameters: {'k': 10, 'M': 0.19204005763861}. Best is trial 0 with value: -0.6760916628535989.\n",
      "[I 2024-12-22 19:57:49,638] Trial 1 finished with value: -0.8053261627177224 and parameters: {'k': 24, 'M': 0.19750530058756796}. Best is trial 1 with value: -0.8053261627177224.\n",
      "[I 2024-12-22 19:57:49,642] Trial 2 finished with value: inf and parameters: {'k': 8, 'M': 0.03601423928032735}. Best is trial 1 with value: -0.8053261627177224.\n",
      "[I 2024-12-22 19:57:49,667] Trial 3 finished with value: -0.8558693597685767 and parameters: {'k': 28, 'M': 0.023041318415652854}. Best is trial 3 with value: -0.8558693597685767.\n",
      "[I 2024-12-22 19:57:49,671] Trial 4 finished with value: inf and parameters: {'k': 4, 'M': 0.11327159100258942}. Best is trial 3 with value: -0.8558693597685767.\n",
      "[I 2024-12-22 19:57:49,675] Trial 5 finished with value: inf and parameters: {'k': 4, 'M': 0.08265472082999953}. Best is trial 3 with value: -0.8558693597685767.\n",
      "[I 2024-12-22 19:57:49,695] Trial 6 finished with value: -0.7775156145345399 and parameters: {'k': 21, 'M': 0.09154211428675023}. Best is trial 3 with value: -0.8558693597685767.\n",
      "[I 2024-12-22 19:57:49,699] Trial 7 finished with value: inf and parameters: {'k': 3, 'M': 0.046914337862313915}. Best is trial 3 with value: -0.8558693597685767.\n",
      "[I 2024-12-22 19:57:49,716] Trial 8 finished with value: -0.7108587430536453 and parameters: {'k': 14, 'M': 0.021888922839382}. Best is trial 3 with value: -0.8558693597685767.\n",
      "[I 2024-12-22 19:57:49,730] Trial 9 finished with value: -0.6760916628535989 and parameters: {'k': 10, 'M': 0.18928987098432787}. Best is trial 3 with value: -0.8558693597685767.\n",
      "[I 2024-12-22 19:57:49,762] Trial 10 finished with value: -0.8351824182560437 and parameters: {'k': 30, 'M': 0.12942942912679828}. Best is trial 3 with value: -0.8558693597685767.\n",
      "[I 2024-12-22 19:57:49,793] Trial 11 finished with value: -0.8351824182560437 and parameters: {'k': 30, 'M': 0.14476167298941206}. Best is trial 3 with value: -0.8558693597685767.\n",
      "[I 2024-12-22 19:57:49,825] Trial 12 finished with value: -0.8351824182560437 and parameters: {'k': 30, 'M': 0.13730536590654052}. Best is trial 3 with value: -0.8558693597685767.\n",
      "[I 2024-12-22 19:57:49,856] Trial 13 finished with value: -0.8131131162090135 and parameters: {'k': 25, 'M': 0.06932296059001866}. Best is trial 3 with value: -0.8558693597685767.\n",
      "[I 2024-12-22 19:57:49,895] Trial 14 finished with value: -0.7682518509360151 and parameters: {'k': 19, 'M': 0.12317765400093977}. Best is trial 3 with value: -0.8558693597685767.\n",
      "[I 2024-12-22 19:57:49,925] Trial 15 finished with value: -0.8447823874430826 and parameters: {'k': 26, 'M': 0.16236336477150615}. Best is trial 3 with value: -0.8558693597685767.\n",
      "[I 2024-12-22 19:57:49,955] Trial 16 finished with value: -0.8131131162090135 and parameters: {'k': 25, 'M': 0.16351065982953394}. Best is trial 3 with value: -0.8558693597685767.\n",
      "[I 2024-12-22 19:57:49,980] Trial 17 finished with value: -0.7681041597411593 and parameters: {'k': 17, 'M': 0.012350962635655268}. Best is trial 3 with value: -0.8558693597685767.\n",
      "[I 2024-12-22 19:57:50,011] Trial 18 finished with value: -0.8505311879081536 and parameters: {'k': 27, 'M': 0.16698661116495692}. Best is trial 3 with value: -0.8558693597685767.\n",
      "[I 2024-12-22 19:57:50,039] Trial 19 finished with value: -0.7775156145345399 and parameters: {'k': 21, 'M': 0.06098580342670304}. Best is trial 3 with value: -0.8558693597685767.\n"
     ]
    }
   ],
   "source": [
    "results_df_g_hat = run_optuna_study(\n",
    "    X,\n",
    "    y,\n",
    "    n_optuna_trials,\n",
    "    test_size,\n",
    "    min_cluster,\n",
    "    max_cluster_ratio,\n",
    "    min_fraction,\n",
    "    max_fraction,\n",
    "    n_estimators,\n",
    "    fixed_seed,\n",
    ")"
   ]
  },
  {
   "cell_type": "code",
   "execution_count": 14,
   "metadata": {},
   "outputs": [
    {
     "name": "stdout",
     "output_type": "stream",
     "text": [
      "k, M, len(X), k/len(X) 38 0.023041318415652854 128 0.296875\n",
      "random_state for split_seed in iteration 1: 6488\n",
      "random_state for split_seed in iteration 2: 4865\n",
      "random_state for split_seed in iteration 3: 5640\n",
      "random_state for split_seed in iteration 4: 9922\n",
      "random_state for split_seed in iteration 5: 2232\n",
      "random_state for split_seed in iteration 6: 766\n",
      "random_state for split_seed in iteration 7: 2456\n",
      "random_state for split_seed in iteration 8: 2898\n",
      "random_state for split_seed in iteration 9: 5930\n",
      "random_state for split_seed in iteration 10: 4576\n"
     ]
    }
   ],
   "source": [
    "N = 10\n",
    "results_dict = results_df_g_hat.to_dict(orient=\"records\")\n",
    "k = int(len(X) * 0.3)\n",
    "M = results_dict[0][\"M\"]\n",
    "print(\"k, M, len(X), k/len(X)\", k, M, len(X), k / len(X))\n",
    "\n",
    "g_hat_benchmark = run_multiple_experiments_g_hat(X, y, test_size, k, M, N, fixed_seed)"
   ]
  },
  {
   "cell_type": "markdown",
   "metadata": {},
   "source": [
    "### g g_hat mean std + ttest"
   ]
  },
  {
   "cell_type": "code",
   "execution_count": 15,
   "metadata": {},
   "outputs": [
    {
     "name": "stdout",
     "output_type": "stream",
     "text": [
      "Baseline Accuracy: Mean = 0.9038461538461539, Std Dev = 0.058047340629086015\n",
      "Baseline ROC AUC: Mean = 0.9576640252658353, Std Dev = 0.024266373166517183\n",
      "Baseline FPR95: Mean = 0.1266198507374978, Std Dev = 0.11393176413336499\n",
      "g_hat Accuracy: Mean = 0.773076923076923, Std Dev = 0.08199116387343323\n",
      "g_hat ROC AUC: Mean = 0.9087219884816038, Std Dev = 0.09033870883821105\n",
      "g_hat FPR95: Mean = 0.2726486013986014, Std Dev = 0.18989441278885447\n",
      "Accuracy: t = 4.116384992583438, p = 0.0006481597473076909\n",
      "ROC AUC: t = 1.6545485750917301, p = 0.11534792236355944\n",
      "FPR95: t = -2.085266930829503, p = 0.05155526559775302\n"
     ]
    },
    {
     "data": {
      "text/plain": [
       "{'accuracy': (4.116384992583438, 0.0006481597473076909),\n",
       " 'roc_auc': (1.6545485750917301, 0.11534792236355944),\n",
       " 'fpr95': (-2.085266930829503, 0.05155526559775302)}"
      ]
     },
     "execution_count": 15,
     "metadata": {},
     "output_type": "execute_result"
    }
   ],
   "source": [
    "t_tests_results = perform_benchmark_analysis(g_benchmark, g_hat_benchmark)\n",
    "t_tests_results"
   ]
  },
  {
   "cell_type": "markdown",
   "metadata": {},
   "source": [
    "### Benchmark g"
   ]
  },
  {
   "cell_type": "code",
   "execution_count": 16,
   "metadata": {},
   "outputs": [],
   "source": [
    "classifier_benchmark_df = benchmark_classifiers(\n",
    "    X, y, test_size, k, M, classifiers, fixed_seed\n",
    ")"
   ]
  },
  {
   "cell_type": "markdown",
   "metadata": {},
   "source": [
    "### Benchmark clustering"
   ]
  },
  {
   "cell_type": "code",
   "execution_count": 17,
   "metadata": {},
   "outputs": [
    {
     "data": {
      "text/html": [
       "<div>\n",
       "<style scoped>\n",
       "    .dataframe tbody tr th:only-of-type {\n",
       "        vertical-align: middle;\n",
       "    }\n",
       "\n",
       "    .dataframe tbody tr th {\n",
       "        vertical-align: top;\n",
       "    }\n",
       "\n",
       "    .dataframe thead th {\n",
       "        text-align: right;\n",
       "    }\n",
       "</style>\n",
       "<table border=\"1\" class=\"dataframe\">\n",
       "  <thead>\n",
       "    <tr style=\"text-align: right;\">\n",
       "      <th></th>\n",
       "      <th>Clustering</th>\n",
       "      <th>Accuracy</th>\n",
       "      <th>ROC_AUC</th>\n",
       "      <th>FPR95</th>\n",
       "      <th>Clustering Time (s)</th>\n",
       "      <th>Classifier Training Time (s)</th>\n",
       "      <th>Number of Samples</th>\n",
       "    </tr>\n",
       "  </thead>\n",
       "  <tbody>\n",
       "    <tr>\n",
       "      <th>0</th>\n",
       "      <td>KMeans</td>\n",
       "      <td>0.5</td>\n",
       "      <td>0.5</td>\n",
       "      <td>1.0</td>\n",
       "      <td>0.003211</td>\n",
       "      <td>0.089548</td>\n",
       "      <td>102</td>\n",
       "    </tr>\n",
       "    <tr>\n",
       "      <th>1</th>\n",
       "      <td>DBSCAN_eps_0.1</td>\n",
       "      <td>0.5</td>\n",
       "      <td>0.5</td>\n",
       "      <td>1.0</td>\n",
       "      <td>0.004029</td>\n",
       "      <td>0.091775</td>\n",
       "      <td>102</td>\n",
       "    </tr>\n",
       "    <tr>\n",
       "      <th>2</th>\n",
       "      <td>DBSCAN_eps_0.2</td>\n",
       "      <td>0.5</td>\n",
       "      <td>0.5</td>\n",
       "      <td>1.0</td>\n",
       "      <td>0.003774</td>\n",
       "      <td>0.093642</td>\n",
       "      <td>102</td>\n",
       "    </tr>\n",
       "    <tr>\n",
       "      <th>3</th>\n",
       "      <td>DBSCAN_eps_0.5</td>\n",
       "      <td>0.5</td>\n",
       "      <td>0.5</td>\n",
       "      <td>1.0</td>\n",
       "      <td>0.003755</td>\n",
       "      <td>0.093542</td>\n",
       "      <td>102</td>\n",
       "    </tr>\n",
       "  </tbody>\n",
       "</table>\n",
       "</div>"
      ],
      "text/plain": [
       "       Clustering  Accuracy  ROC_AUC  FPR95  Clustering Time (s)  \\\n",
       "0          KMeans       0.5      0.5    1.0             0.003211   \n",
       "1  DBSCAN_eps_0.1       0.5      0.5    1.0             0.004029   \n",
       "2  DBSCAN_eps_0.2       0.5      0.5    1.0             0.003774   \n",
       "3  DBSCAN_eps_0.5       0.5      0.5    1.0             0.003755   \n",
       "\n",
       "   Classifier Training Time (s)  Number of Samples  \n",
       "0                      0.089548                102  \n",
       "1                      0.091775                102  \n",
       "2                      0.093642                102  \n",
       "3                      0.093542                102  "
      ]
     },
     "execution_count": 17,
     "metadata": {},
     "output_type": "execute_result"
    }
   ],
   "source": [
    "# A fixed classifier\n",
    "classifier = classifiers['RandomForest']\n",
    "\n",
    "clustering_benchmark_df = benchmark_clustering_methods(\n",
    "    X, y, test_size, k, M, clustering_methods, classifier\n",
    ")\n",
    "\n",
    "clustering_benchmark_df"
   ]
  },
  {
   "cell_type": "markdown",
   "metadata": {},
   "source": [
    "### Investigate k wrt g-g_hat"
   ]
  },
  {
   "cell_type": "code",
   "execution_count": 18,
   "metadata": {
    "scrolled": true
   },
   "outputs": [
    {
     "name": "stdout",
     "output_type": "stream",
     "text": [
      "confidence_intervals_g {'baseline_accuracy': (0.9038461538461539, 0.04152456599327423), 'baseline_fpr95': (0.1266198507374978, 0.0815018742842373), 'baseline_roc_auc': (0.9576640252658353, 0.01735911762795821)}\n",
      "Max i: 6\n",
      "k: 1\n",
      "Skipping k=1 on run 1 due to single class in y_clusters.\n",
      "Skipping k=1 on run 2 due to single class in y_clusters.\n",
      "Skipping k=1 on run 3 due to single class in y_clusters.\n",
      "Skipping k=1 on run 4 due to single class in y_clusters.\n",
      "Skipping k=1 on run 5 due to single class in y_clusters.\n",
      "Skipping k=1 on run 6 due to single class in y_clusters.\n",
      "Skipping k=1 on run 7 due to single class in y_clusters.\n",
      "Skipping k=1 on run 8 due to single class in y_clusters.\n",
      "Skipping k=1 on run 9 due to single class in y_clusters.\n",
      "Skipping k=1 on run 10 due to single class in y_clusters.\n",
      "k: 2\n",
      "Skipping k=2 on run 1 due to single class in y_clusters.\n",
      "Skipping k=2 on run 2 due to single class in y_clusters.\n",
      "Skipping k=2 on run 3 due to single class in y_clusters.\n",
      "Skipping k=2 on run 4 due to single class in y_clusters.\n",
      "Skipping k=2 on run 5 due to single class in y_clusters.\n",
      "Skipping k=2 on run 6 due to single class in y_clusters.\n",
      "Skipping k=2 on run 7 due to single class in y_clusters.\n"
     ]
    },
    {
     "name": "stderr",
     "output_type": "stream",
     "text": [
      "/ws/geospatial-ood-detection/notebooks/../src/tardis/eurosat_xbd_utils.py:989: RuntimeWarning: Mean of empty slice\n",
      "  mean = np.nanmean(values)\n",
      "/ws/geospatial-ood-detection/notebooks/../src/tardis/eurosat_xbd_utils.py:990: SmallSampleWarning: One or more sample arguments is too small; all returned values will be NaN. See documentation for sample size requirements.\n",
      "  sem = stats.sem(values, nan_policy=\"omit\")\n"
     ]
    },
    {
     "name": "stdout",
     "output_type": "stream",
     "text": [
      "Skipping k=2 on run 8 due to single class in y_clusters.\n",
      "Skipping k=2 on run 9 due to single class in y_clusters.\n",
      "Skipping k=2 on run 10 due to single class in y_clusters.\n",
      "k: 4\n",
      "Skipping k=4 on run 1 due to single class in y_clusters.\n",
      "Skipping k=4 on run 2 due to single class in y_clusters.\n",
      "Skipping k=4 on run 3 due to single class in y_clusters.\n",
      "Skipping k=4 on run 4 due to single class in y_clusters.\n",
      "Skipping k=4 on run 5 due to single class in y_clusters.\n",
      "Skipping k=4 on run 6 due to single class in y_clusters.\n",
      "Skipping k=4 on run 7 due to single class in y_clusters.\n",
      "Skipping k=4 on run 8 due to single class in y_clusters.\n",
      "Skipping k=4 on run 9 due to single class in y_clusters.\n",
      "Skipping k=4 on run 10 due to single class in y_clusters.\n",
      "k: 8\n",
      "Skipping k=8 on run 1 due to single class in y_clusters.\n",
      "Skipping k=8 on run 4 due to single class in y_clusters.\n",
      "Skipping k=8 on run 5 due to single class in y_clusters.\n",
      "Skipping k=8 on run 8 due to single class in y_clusters.\n",
      "Skipping k=8 on run 9 due to single class in y_clusters.\n",
      "Skipping k=8 on run 10 due to single class in y_clusters.\n",
      "k: 16\n"
     ]
    },
    {
     "name": "stderr",
     "output_type": "stream",
     "text": [
      "/ws/geospatial-ood-detection/notebooks/../src/tardis/eurosat_xbd_utils.py:989: RuntimeWarning: Mean of empty slice\n",
      "  mean = np.nanmean(values)\n",
      "/ws/geospatial-ood-detection/notebooks/../src/tardis/eurosat_xbd_utils.py:990: SmallSampleWarning: One or more sample arguments is too small; all returned values will be NaN. See documentation for sample size requirements.\n",
      "  sem = stats.sem(values, nan_policy=\"omit\")\n",
      "/ws/geospatial-ood-detection/notebooks/../src/tardis/eurosat_xbd_utils.py:989: RuntimeWarning: Mean of empty slice\n",
      "  mean = np.nanmean(values)\n",
      "/ws/geospatial-ood-detection/notebooks/../src/tardis/eurosat_xbd_utils.py:990: SmallSampleWarning: One or more sample arguments is too small; all returned values will be NaN. See documentation for sample size requirements.\n",
      "  sem = stats.sem(values, nan_policy=\"omit\")\n"
     ]
    },
    {
     "name": "stdout",
     "output_type": "stream",
     "text": [
      "k: 32\n",
      "k: 64\n",
      "k: 102\n"
     ]
    },
    {
     "data": {
      "image/png": "[encoded data removed]",
      "text/plain": [
       "<Figure size 1000x800 with 1 Axes>"
      ]
     },
     "metadata": {},
     "output_type": "display_data"
    }
   ],
   "source": [
    "print(\"confidence_intervals_g\", confidence_intervals_g)\n",
    "\n",
    "df_results = benchmark_kmeans_with_varying_k_condidence_g_hat(\n",
    "    X,\n",
    "    y,\n",
    "    M,\n",
    "    test_size,\n",
    "    n_runs=10,\n",
    "    confidence_level=0.95,\n",
    "    confidence_intervals_g=confidence_intervals_g,\n",
    "    clf=None,\n",
    ")"
   ]
  },
  {
   "cell_type": "markdown",
   "metadata": {},
   "source": [
    "### Feature Level Visualization: Understand how clustering alters the structure of the feature space"
   ]
  },
  {
   "cell_type": "code",
   "execution_count": 19,
   "metadata": {},
   "outputs": [
    {
     "name": "stdout",
     "output_type": "stream",
     "text": [
      "Proportion of label changes: 0.17\n"
     ]
    },
    {
     "data": {
      "image/png": "[encoded data removed]",
      "text/plain": [
       "<Figure size 1800x600 with 6 Axes>"
      ]
     },
     "metadata": {},
     "output_type": "display_data"
    }
   ],
   "source": [
    "i = 0\n",
    "_, X_train_cluster, y_train_cluster, y_clusters, *_ = run_g_hat_experiment(\n",
    "    X, y, test_size, k, M, fixed_seed, fixed_seed, i\n",
    ")\n",
    "plot_tsne_with_label_changes(\n",
    "    X_train_cluster, y_train_cluster, y_clusters, class_name=\"Disaster\"\n",
    ")"
   ]
  },
  {
   "cell_type": "markdown",
   "metadata": {
    "jp-MarkdownHeadingCollapsed": true
   },
   "source": [
    "# Same type - Far"
   ]
  },
  {
   "cell_type": "code",
   "execution_count": null,
   "metadata": {
    "scrolled": true
   },
   "outputs": [],
   "source": [
    "model, cfg = get_model_config(same_far_config_path, ckpt_main_dir, device)\n",
    "datamodule, datamodule_train, datamodule_val, datamodule_test = prepare_datamodule(cfg)"
   ]
  },
  {
   "cell_type": "markdown",
   "metadata": {},
   "source": [
    "### Downsample Benchmark"
   ]
  },
  {
   "cell_type": "code",
   "execution_count": null,
   "metadata": {},
   "outputs": [],
   "source": [
    "nametag = (\n",
    "    cfg.id_ood_disaster[0][\"disaster_name\"]\n",
    "    + \"-\"\n",
    "    + cfg.id_ood_disaster[0][\"pre-post\"]\n",
    "    + \"_\"\n",
    "    + cfg.id_ood_disaster[1][\"disaster_name\"]\n",
    "    + \"-\"\n",
    "    + cfg.id_ood_disaster[1][\"pre-post\"]\n",
    ")\n",
    "\n",
    "for downsample in downsample_methods:\n",
    "    print(f\"Running experiments for {downsample} downsample method.\")\n",
    "    X, y, test_property_lengths = create_feature_matrix_and_labels(\n",
    "        model=model,\n",
    "        dm=datamodule,\n",
    "        train_dataloader=datamodule_train,\n",
    "        test_dataloader=datamodule_test,\n",
    "        layer_names=collect_activations_from_layers,\n",
    "        device=device,\n",
    "        getitem_keys=getitem_keys,\n",
    "        n_batches_to_process=n_batches_to_process,\n",
    "        downsample_method=downsample,\n",
    "        verbose=verbose,\n",
    "    )\n",
    "    print(\"Run g experiment for downsample method:\", downsample)\n",
    "    g_benchmark = run_g_experiment(\n",
    "        X, y, split_seed, test_size, n_estimators, fixed_classifier_seed, clf=None\n",
    "    )\n",
    "    \n",
    "    downsample_benchmark[downsample] = g_benchmark"
   ]
  },
  {
   "cell_type": "code",
   "execution_count": null,
   "metadata": {},
   "outputs": [],
   "source": [
    "plot_downsample_benchmark(downsample_benchmark, nametag)"
   ]
  },
  {
   "cell_type": "markdown",
   "metadata": {},
   "source": [
    "### Layer Benchmark"
   ]
  },
  {
   "cell_type": "code",
   "execution_count": null,
   "metadata": {},
   "outputs": [],
   "source": [
    "for lyr in selected_layers:\n",
    "    print(f\"Running experiments for layer {lyr}\")\n",
    "    X, y, test_property_lengths = create_feature_matrix_and_labels(\n",
    "        model=model,\n",
    "        dm=datamodule,\n",
    "        train_dataloader=datamodule_train,\n",
    "        test_dataloader=datamodule_test,\n",
    "        layer_names=lyr,\n",
    "        device=device,\n",
    "        getitem_keys=getitem_keys,\n",
    "        n_batches_to_process=n_batches_to_process,\n",
    "        downsample_method=downsample_method,\n",
    "        verbose=verbose,\n",
    "    )\n",
    "\n",
    "    g_benchmark = run_g_experiment(\n",
    "        X, y, split_seed, test_size, n_estimators, fixed_classifier_seed, clf=None\n",
    "    )\n",
    "    \n",
    "    layer_benchmark[str(lyr)] = g_benchmark"
   ]
  },
  {
   "cell_type": "code",
   "execution_count": null,
   "metadata": {},
   "outputs": [],
   "source": [
    "plot_layer_benchmark(layer_benchmark, all_layer_names, nametag)"
   ]
  },
  {
   "cell_type": "markdown",
   "metadata": {},
   "source": [
    "### Property extraction"
   ]
  },
  {
   "cell_type": "code",
   "execution_count": null,
   "metadata": {},
   "outputs": [],
   "source": [
    "X, y, test_property_lengths = create_feature_matrix_and_labels(\n",
    "    model=model,\n",
    "    dm=datamodule,\n",
    "    train_dataloader=datamodule_train,\n",
    "    test_dataloader=datamodule_test,\n",
    "    layer_names=collect_activations_from_layers,\n",
    "    device=device,\n",
    "    getitem_keys=getitem_keys,\n",
    "    n_batches_to_process=n_batches_to_process,\n",
    "    downsample_method=downsample_method,\n",
    "    verbose=verbose,\n",
    ")"
   ]
  },
  {
   "cell_type": "markdown",
   "metadata": {},
   "source": [
    "### g confidence interval"
   ]
  },
  {
   "cell_type": "code",
   "execution_count": null,
   "metadata": {},
   "outputs": [],
   "source": [
    "g_benchmark = run_multiple_experiments_g(\n",
    "    X, y, test_size, n_estimators, random_seed=True\n",
    ")"
   ]
  },
  {
   "cell_type": "code",
   "execution_count": null,
   "metadata": {},
   "outputs": [],
   "source": [
    "# Calculate confidence intervals for the specified columns\n",
    "columns_of_interest = [\"baseline_accuracy\", \"baseline_fpr95\", \"baseline_roc_auc\"]\n",
    "confidence_intervals_g = calculate_confidence_intervals(\n",
    "    g_benchmark, columns_of_interest\n",
    ")\n",
    "confidence_intervals_g"
   ]
  },
  {
   "cell_type": "markdown",
   "metadata": {},
   "source": [
    "### g_hat"
   ]
  },
  {
   "cell_type": "code",
   "execution_count": null,
   "metadata": {},
   "outputs": [],
   "source": [
    "results_df_g_hat = run_optuna_study(\n",
    "    X,\n",
    "    y,\n",
    "    n_optuna_trials,\n",
    "    test_size,\n",
    "    min_cluster,\n",
    "    max_cluster_ratio,\n",
    "    min_fraction,\n",
    "    max_fraction,\n",
    "    n_estimators,\n",
    "    fixed_seed,\n",
    ")"
   ]
  },
  {
   "cell_type": "code",
   "execution_count": null,
   "metadata": {},
   "outputs": [],
   "source": [
    "N = 10\n",
    "results_dict = results_df_g_hat.to_dict(orient=\"records\")\n",
    "k = int(len(X) * 0.3)\n",
    "M = results_dict[0][\"M\"]\n",
    "print(\"k, M, len(X), k/len(X)\", k, M, len(X), k / len(X))\n",
    "\n",
    "g_hat_benchmark = run_multiple_experiments_g_hat(X, y, test_size, k, M, N, fixed_seed)"
   ]
  },
  {
   "cell_type": "markdown",
   "metadata": {},
   "source": [
    "### g g_hat mean std + ttest"
   ]
  },
  {
   "cell_type": "code",
   "execution_count": null,
   "metadata": {},
   "outputs": [],
   "source": [
    "t_tests_results = perform_benchmark_analysis(g_benchmark, g_hat_benchmark)\n",
    "t_tests_results"
   ]
  },
  {
   "cell_type": "markdown",
   "metadata": {},
   "source": [
    "### Benchmark g"
   ]
  },
  {
   "cell_type": "code",
   "execution_count": null,
   "metadata": {},
   "outputs": [],
   "source": [
    "classifier_benchmark_df = benchmark_classifiers(\n",
    "    X, y, test_size, k, M, classifiers, fixed_seed\n",
    ")"
   ]
  },
  {
   "cell_type": "markdown",
   "metadata": {},
   "source": [
    "### Benchmark clustering"
   ]
  },
  {
   "cell_type": "code",
   "execution_count": null,
   "metadata": {},
   "outputs": [],
   "source": [
    "# A fixed classifier\n",
    "classifier = classifiers['RandomForest']\n",
    "\n",
    "clustering_benchmark_df = benchmark_clustering_methods(\n",
    "    X, y, test_size, k, M, clustering_methods, classifier\n",
    ")\n",
    "\n",
    "clustering_benchmark_df"
   ]
  },
  {
   "cell_type": "markdown",
   "metadata": {},
   "source": [
    "### Investigate k wrt g-g_hat"
   ]
  },
  {
   "cell_type": "code",
   "execution_count": null,
   "metadata": {},
   "outputs": [],
   "source": [
    "nametag = (\n",
    "    cfg.id_ood_disaster[0][\"disaster_name\"]\n",
    "    + \"-\"\n",
    "    + cfg.id_ood_disaster[0][\"pre-post\"]\n",
    "    + \"_\"\n",
    "    + cfg.id_ood_disaster[1][\"disaster_name\"]\n",
    "    + \"-\"\n",
    "    + cfg.id_ood_disaster[1][\"pre-post\"]\n",
    ")\n",
    "\n",
    "print(\"confidence_intervals_g\", confidence_intervals_g)\n",
    "\n",
    "df_results = benchmark_kmeans_with_varying_k_condidence_g_hat(\n",
    "    X,\n",
    "    y,\n",
    "    M,\n",
    "    test_size,\n",
    "    n_runs=10,\n",
    "    confidence_level=0.95,\n",
    "    confidence_intervals_g=confidence_intervals_g,\n",
    "    clf=None,\n",
    "    save_plot=True,\n",
    "    fname=nametag,\n",
    ")"
   ]
  },
  {
   "cell_type": "markdown",
   "metadata": {},
   "source": [
    "### Feature Level Visualization: Understand how clustering alters the structure of the feature space"
   ]
  },
  {
   "cell_type": "code",
   "execution_count": null,
   "metadata": {},
   "outputs": [],
   "source": [
    "i = 0\n",
    "_, X_train_cluster, y_train_cluster, y_clusters, *_ = run_g_hat_experiment(\n",
    "    X, y, test_size, k, M, fixed_seed, fixed_seed, i\n",
    ")\n",
    "plot_tsne_with_label_changes(\n",
    "    X_train_cluster, y_train_cluster, y_clusters, class_name=\"Disaster\"\n",
    ")"
   ]
  },
  {
   "cell_type": "markdown",
   "metadata": {
    "jp-MarkdownHeadingCollapsed": true
   },
   "source": [
    "# Same type - Close"
   ]
  },
  {
   "cell_type": "code",
   "execution_count": null,
   "metadata": {},
   "outputs": [],
   "source": [
    "model, cfg = get_model_config(same_close_config_path, ckpt_main_dir, device)\n",
    "datamodule, datamodule_train, datamodule_val, datamodule_test = prepare_datamodule(cfg)"
   ]
  },
  {
   "cell_type": "markdown",
   "metadata": {},
   "source": [
    "### Downsample Benchmark"
   ]
  },
  {
   "cell_type": "code",
   "execution_count": null,
   "metadata": {},
   "outputs": [],
   "source": [
    "nametag = (\n",
    "    cfg.id_ood_disaster[0][\"disaster_name\"]\n",
    "    + \"-\"\n",
    "    + cfg.id_ood_disaster[0][\"pre-post\"]\n",
    "    + \"_\"\n",
    "    + cfg.id_ood_disaster[1][\"disaster_name\"]\n",
    "    + \"-\"\n",
    "    + cfg.id_ood_disaster[1][\"pre-post\"]\n",
    ")\n",
    "\n",
    "for downsample in downsample_methods:\n",
    "    print(f\"Running experiments for {downsample} downsample method.\")\n",
    "    X, y, test_property_lengths = create_feature_matrix_and_labels(\n",
    "        model=model,\n",
    "        dm=datamodule,\n",
    "        train_dataloader=datamodule_train,\n",
    "        test_dataloader=datamodule_test,\n",
    "        layer_names=collect_activations_from_layers,\n",
    "        device=device,\n",
    "        getitem_keys=getitem_keys,\n",
    "        n_batches_to_process=n_batches_to_process,\n",
    "        downsample_method=downsample,\n",
    "        verbose=verbose,\n",
    "    )\n",
    "    print(\"Run g experiment for downsample method:\", downsample)\n",
    "    g_benchmark = run_g_experiment(\n",
    "        X, y, split_seed, test_size, n_estimators, fixed_classifier_seed, clf=None\n",
    "    )\n",
    "    \n",
    "    downsample_benchmark[downsample] = g_benchmark"
   ]
  },
  {
   "cell_type": "code",
   "execution_count": null,
   "metadata": {},
   "outputs": [],
   "source": [
    "plot_downsample_benchmark(downsample_benchmark, nametag)"
   ]
  },
  {
   "cell_type": "markdown",
   "metadata": {},
   "source": [
    "### Layer Benchmark"
   ]
  },
  {
   "cell_type": "code",
   "execution_count": null,
   "metadata": {},
   "outputs": [],
   "source": [
    "for lyr in selected_layers:\n",
    "    print(f\"Running experiments for layer {lyr}\")\n",
    "    X, y, test_property_lengths = create_feature_matrix_and_labels(\n",
    "        model=model,\n",
    "        dm=datamodule,\n",
    "        train_dataloader=datamodule_train,\n",
    "        test_dataloader=datamodule_test,\n",
    "        layer_names=lyr,\n",
    "        device=device,\n",
    "        getitem_keys=getitem_keys,\n",
    "        n_batches_to_process=n_batches_to_process,\n",
    "        downsample_method=downsample_method,\n",
    "        verbose=verbose,\n",
    "    )\n",
    "\n",
    "    g_benchmark = run_g_experiment(\n",
    "        X, y, split_seed, test_size, n_estimators, fixed_classifier_seed, clf=None\n",
    "    )\n",
    "    \n",
    "    layer_benchmark[str(lyr)] = g_benchmark"
   ]
  },
  {
   "cell_type": "code",
   "execution_count": null,
   "metadata": {},
   "outputs": [],
   "source": [
    "plot_layer_benchmark(layer_benchmark, all_layer_names, nametag)"
   ]
  },
  {
   "cell_type": "markdown",
   "metadata": {},
   "source": [
    "### Property extraction"
   ]
  },
  {
   "cell_type": "code",
   "execution_count": null,
   "metadata": {},
   "outputs": [],
   "source": [
    "all_layer_names = get_all_layer_names(model)"
   ]
  },
  {
   "cell_type": "code",
   "execution_count": null,
   "metadata": {},
   "outputs": [],
   "source": [
    "collect_activations_from_layers = [\"encoder.layer2.0.conv1\"]\n",
    "device = \"cuda\" if torch.cuda.is_available() else \"cpu\"\n",
    "getitem_keys = [\"image\", \"mask\"]\n",
    "n_batches_to_process = n_batches_to_process\n",
    "downsample_method = \"avg_pool\"\n",
    "verbose = False\n",
    "\n",
    "X, y, test_property_lengths = create_feature_matrix_and_labels(\n",
    "    model=model,\n",
    "    dm=datamodule,\n",
    "    train_dataloader=datamodule_train,\n",
    "    test_dataloader=datamodule_test,\n",
    "    layer_names=collect_activations_from_layers,\n",
    "    device=device,\n",
    "    getitem_keys=getitem_keys,\n",
    "    n_batches_to_process=n_batches_to_process,\n",
    "    downsample_method=downsample_method,\n",
    "    verbose=verbose,\n",
    ")"
   ]
  },
  {
   "cell_type": "markdown",
   "metadata": {},
   "source": [
    "### g confidence interval"
   ]
  },
  {
   "cell_type": "code",
   "execution_count": null,
   "metadata": {},
   "outputs": [],
   "source": [
    "g_benchmark = run_multiple_experiments_g(\n",
    "    X, y, test_size, n_estimators, random_seed=True\n",
    ")"
   ]
  },
  {
   "cell_type": "code",
   "execution_count": null,
   "metadata": {},
   "outputs": [],
   "source": [
    "# Calculate confidence intervals for the specified columns\n",
    "columns_of_interest = [\"baseline_accuracy\", \"baseline_fpr95\", \"baseline_roc_auc\"]\n",
    "confidence_intervals_g = calculate_confidence_intervals(\n",
    "    g_benchmark, columns_of_interest\n",
    ")\n",
    "confidence_intervals_g"
   ]
  },
  {
   "cell_type": "markdown",
   "metadata": {},
   "source": [
    "### g_hat"
   ]
  },
  {
   "cell_type": "code",
   "execution_count": null,
   "metadata": {},
   "outputs": [],
   "source": [
    "results_df_g_hat = run_optuna_study(\n",
    "    X,\n",
    "    y,\n",
    "    n_optuna_trials,\n",
    "    test_size,\n",
    "    min_cluster,\n",
    "    max_cluster_ratio,\n",
    "    min_fraction,\n",
    "    max_fraction,\n",
    "    n_estimators,\n",
    "    fixed_seed,\n",
    ")"
   ]
  },
  {
   "cell_type": "code",
   "execution_count": null,
   "metadata": {},
   "outputs": [],
   "source": [
    "N = 10\n",
    "results_dict = results_df_g_hat.to_dict(orient=\"records\")\n",
    "k = int(len(X) * 0.3)\n",
    "M = results_dict[0][\"M\"]\n",
    "print(\"k, M, len(X), k/len(X)\", k, M, len(X), k / len(X))\n",
    "\n",
    "g_hat_benchmark = run_multiple_experiments_g_hat(X, y, test_size, k, M, N, fixed_seed)"
   ]
  },
  {
   "cell_type": "markdown",
   "metadata": {},
   "source": [
    "### g g_hat mean std + ttest"
   ]
  },
  {
   "cell_type": "code",
   "execution_count": null,
   "metadata": {},
   "outputs": [],
   "source": [
    "t_tests_results = perform_benchmark_analysis(g_benchmark, g_hat_benchmark)\n",
    "t_tests_results"
   ]
  },
  {
   "cell_type": "markdown",
   "metadata": {},
   "source": [
    "### Benchmark g"
   ]
  },
  {
   "cell_type": "code",
   "execution_count": null,
   "metadata": {},
   "outputs": [],
   "source": [
    "classifier_benchmark_df = benchmark_classifiers(\n",
    "    X, y, test_size, k, M, classifiers, fixed_seed\n",
    ")"
   ]
  },
  {
   "cell_type": "markdown",
   "metadata": {},
   "source": [
    "### Benchmark clustering"
   ]
  },
  {
   "cell_type": "code",
   "execution_count": null,
   "metadata": {},
   "outputs": [],
   "source": [
    "# A fixed classifier\n",
    "classifier = classifiers['RandomForest']\n",
    "\n",
    "clustering_benchmark_df = benchmark_clustering_methods(\n",
    "    X, y, test_size, k, M, clustering_methods, classifier\n",
    ")\n",
    "\n",
    "clustering_benchmark_df"
   ]
  },
  {
   "cell_type": "markdown",
   "metadata": {},
   "source": [
    "### Investigate k wrt g-g_hat"
   ]
  },
  {
   "cell_type": "code",
   "execution_count": null,
   "metadata": {},
   "outputs": [],
   "source": [
    "print(\"confidence_intervals_g\", confidence_intervals_g)\n",
    "\n",
    "df_results = benchmark_kmeans_with_varying_k_condidence_g_hat(\n",
    "    X,\n",
    "    y,\n",
    "    M,\n",
    "    test_size,\n",
    "    n_runs=10,\n",
    "    confidence_level=0.95,\n",
    "    confidence_intervals_g=confidence_intervals_g,\n",
    "    clf=None,\n",
    ")"
   ]
  },
  {
   "cell_type": "markdown",
   "metadata": {},
   "source": [
    "### Feature Level Visualization: Understand how clustering alters the structure of the feature space"
   ]
  },
  {
   "cell_type": "code",
   "execution_count": null,
   "metadata": {},
   "outputs": [],
   "source": [
    "i = 0\n",
    "_, X_train_cluster, y_train_cluster, y_clusters, *_ = run_g_hat_experiment(\n",
    "    X, y, test_size, k, M, fixed_seed, fixed_seed, i\n",
    ")\n",
    "plot_tsne_with_label_changes(\n",
    "    X_train_cluster, y_train_cluster, y_clusters, class_name=\"Disaster\"\n",
    ")"
   ]
  },
  {
   "cell_type": "markdown",
   "metadata": {
    "jp-MarkdownHeadingCollapsed": true
   },
   "source": [
    "# Different type - Far"
   ]
  },
  {
   "cell_type": "code",
   "execution_count": null,
   "metadata": {},
   "outputs": [],
   "source": [
    "model, cfg = get_model_config(different_far_config_path, ckpt_main_dir, device)\n",
    "datamodule, datamodule_train, datamodule_val, datamodule_test = prepare_datamodule(cfg)"
   ]
  },
  {
   "cell_type": "markdown",
   "metadata": {},
   "source": [
    "### Downsample Benchmark"
   ]
  },
  {
   "cell_type": "code",
   "execution_count": null,
   "metadata": {},
   "outputs": [],
   "source": [
    "nametag = (\n",
    "    cfg.id_ood_disaster[0][\"disaster_name\"]\n",
    "    + \"-\"\n",
    "    + cfg.id_ood_disaster[0][\"pre-post\"]\n",
    "    + \"_\"\n",
    "    + cfg.id_ood_disaster[1][\"disaster_name\"]\n",
    "    + \"-\"\n",
    "    + cfg.id_ood_disaster[1][\"pre-post\"]\n",
    ")\n",
    "\n",
    "for downsample in downsample_methods:\n",
    "    print(f\"Running experiments for {downsample} downsample method.\")\n",
    "    X, y, test_property_lengths = create_feature_matrix_and_labels(\n",
    "        model=model,\n",
    "        dm=datamodule,\n",
    "        train_dataloader=datamodule_train,\n",
    "        test_dataloader=datamodule_test,\n",
    "        layer_names=collect_activations_from_layers,\n",
    "        device=device,\n",
    "        getitem_keys=getitem_keys,\n",
    "        n_batches_to_process=n_batches_to_process,\n",
    "        downsample_method=downsample,\n",
    "        verbose=verbose,\n",
    "    )\n",
    "    print(\"Run g experiment for downsample method:\", downsample)\n",
    "    g_benchmark = run_g_experiment(\n",
    "        X, y, split_seed, test_size, n_estimators, fixed_classifier_seed, clf=None\n",
    "    )\n",
    "    \n",
    "    downsample_benchmark[downsample] = g_benchmark"
   ]
  },
  {
   "cell_type": "code",
   "execution_count": null,
   "metadata": {},
   "outputs": [],
   "source": [
    "plot_downsample_benchmark(downsample_benchmark, nametag)"
   ]
  },
  {
   "cell_type": "markdown",
   "metadata": {},
   "source": [
    "### Layer Benchmark"
   ]
  },
  {
   "cell_type": "code",
   "execution_count": null,
   "metadata": {},
   "outputs": [],
   "source": [
    "for lyr in selected_layers:\n",
    "    print(f\"Running experiments for layer {lyr}\")\n",
    "    X, y, test_property_lengths = create_feature_matrix_and_labels(\n",
    "        model=model,\n",
    "        dm=datamodule,\n",
    "        train_dataloader=datamodule_train,\n",
    "        test_dataloader=datamodule_test,\n",
    "        layer_names=lyr,\n",
    "        device=device,\n",
    "        getitem_keys=getitem_keys,\n",
    "        n_batches_to_process=n_batches_to_process,\n",
    "        downsample_method=downsample_method,\n",
    "        verbose=verbose,\n",
    "    )\n",
    "\n",
    "    g_benchmark = run_g_experiment(\n",
    "        X, y, split_seed, test_size, n_estimators, fixed_classifier_seed, clf=None\n",
    "    )\n",
    "    \n",
    "    layer_benchmark[str(lyr)] = g_benchmark"
   ]
  },
  {
   "cell_type": "code",
   "execution_count": null,
   "metadata": {},
   "outputs": [],
   "source": [
    "plot_layer_benchmark(layer_benchmark, all_layer_names, nametag)"
   ]
  },
  {
   "cell_type": "markdown",
   "metadata": {},
   "source": [
    "### Property extraction"
   ]
  },
  {
   "cell_type": "code",
   "execution_count": null,
   "metadata": {},
   "outputs": [],
   "source": [
    "all_layer_names = get_all_layer_names(model)"
   ]
  },
  {
   "cell_type": "code",
   "execution_count": null,
   "metadata": {},
   "outputs": [],
   "source": [
    "collect_activations_from_layers = [\"encoder.layer2.0.conv1\"]\n",
    "device = \"cuda\" if torch.cuda.is_available() else \"cpu\"\n",
    "getitem_keys = [\"image\", \"mask\"]\n",
    "n_batches_to_process = n_batches_to_process\n",
    "downsample_method = \"avg_pool\"\n",
    "verbose = False\n",
    "\n",
    "X, y, test_property_lengths = create_feature_matrix_and_labels(\n",
    "    model=model,\n",
    "    dm=datamodule,\n",
    "    train_dataloader=datamodule_train,\n",
    "    test_dataloader=datamodule_test,\n",
    "    layer_names=collect_activations_from_layers,\n",
    "    device=device,\n",
    "    getitem_keys=getitem_keys,\n",
    "    n_batches_to_process=n_batches_to_process,\n",
    "    downsample_method=downsample_method,\n",
    "    verbose=verbose,\n",
    ")"
   ]
  },
  {
   "cell_type": "markdown",
   "metadata": {},
   "source": [
    "### g confidence interval"
   ]
  },
  {
   "cell_type": "code",
   "execution_count": null,
   "metadata": {},
   "outputs": [],
   "source": [
    "g_benchmark = run_multiple_experiments_g(\n",
    "    X, y, test_size, n_estimators, random_seed=True\n",
    ")"
   ]
  },
  {
   "cell_type": "code",
   "execution_count": null,
   "metadata": {},
   "outputs": [],
   "source": [
    "# Calculate confidence intervals for the specified columns\n",
    "columns_of_interest = [\"baseline_accuracy\", \"baseline_fpr95\", \"baseline_roc_auc\"]\n",
    "confidence_intervals_g = calculate_confidence_intervals(\n",
    "    g_benchmark, columns_of_interest\n",
    ")\n",
    "confidence_intervals_g"
   ]
  },
  {
   "cell_type": "markdown",
   "metadata": {},
   "source": [
    "### g_hat"
   ]
  },
  {
   "cell_type": "code",
   "execution_count": null,
   "metadata": {},
   "outputs": [],
   "source": [
    "results_df_g_hat = run_optuna_study(\n",
    "    X,\n",
    "    y,\n",
    "    n_optuna_trials,\n",
    "    test_size,\n",
    "    min_cluster,\n",
    "    max_cluster_ratio,\n",
    "    min_fraction,\n",
    "    max_fraction,\n",
    "    n_estimators,\n",
    "    fixed_seed,\n",
    ")"
   ]
  },
  {
   "cell_type": "code",
   "execution_count": null,
   "metadata": {},
   "outputs": [],
   "source": [
    "N = 10\n",
    "results_dict = results_df_g_hat.to_dict(orient=\"records\")\n",
    "k = int(len(X) * 0.3)\n",
    "M = results_dict[0][\"M\"]\n",
    "print(\"k, M, len(X), k/len(X)\", k, M, len(X), k / len(X))\n",
    "\n",
    "g_hat_benchmark = run_multiple_experiments_g_hat(X, y, test_size, k, M, N, fixed_seed)"
   ]
  },
  {
   "cell_type": "markdown",
   "metadata": {},
   "source": [
    "### g g_hat mean std + ttest"
   ]
  },
  {
   "cell_type": "code",
   "execution_count": null,
   "metadata": {},
   "outputs": [],
   "source": [
    "t_tests_results = perform_benchmark_analysis(g_benchmark, g_hat_benchmark)\n",
    "t_tests_results"
   ]
  },
  {
   "cell_type": "markdown",
   "metadata": {},
   "source": [
    "### Benchmark g"
   ]
  },
  {
   "cell_type": "code",
   "execution_count": null,
   "metadata": {},
   "outputs": [],
   "source": [
    "classifier_benchmark_df = benchmark_classifiers(\n",
    "    X, y, test_size, k, M, classifiers, fixed_seed\n",
    ")"
   ]
  },
  {
   "cell_type": "markdown",
   "metadata": {},
   "source": [
    "### Benchmark clustering"
   ]
  },
  {
   "cell_type": "code",
   "execution_count": null,
   "metadata": {},
   "outputs": [],
   "source": [
    "# A fixed classifier\n",
    "classifier = classifiers['RandomForest']\n",
    "\n",
    "clustering_benchmark_df = benchmark_clustering_methods(\n",
    "    X, y, test_size, k, M, clustering_methods, classifier\n",
    ")\n",
    "\n",
    "clustering_benchmark_df"
   ]
  },
  {
   "cell_type": "markdown",
   "metadata": {},
   "source": [
    "### Investigate k wrt g-g_hat"
   ]
  },
  {
   "cell_type": "code",
   "execution_count": null,
   "metadata": {},
   "outputs": [],
   "source": [
    "nametag = (\n",
    "    cfg.id_ood_disaster[0][\"disaster_name\"]\n",
    "    + \"-\"\n",
    "    + cfg.id_ood_disaster[0][\"pre-post\"]\n",
    "    + \"_\"\n",
    "    + cfg.id_ood_disaster[1][\"disaster_name\"]\n",
    "    + \"-\"\n",
    "    + cfg.id_ood_disaster[1][\"pre-post\"]\n",
    ")\n",
    "\n",
    "print(\"confidence_intervals_g\", confidence_intervals_g)\n",
    "\n",
    "df_results = benchmark_kmeans_with_varying_k_condidence_g_hat(\n",
    "    X,\n",
    "    y,\n",
    "    M,\n",
    "    test_size,\n",
    "    n_runs=10,\n",
    "    confidence_level=0.95,\n",
    "    confidence_intervals_g=confidence_intervals_g,\n",
    "    clf=None,\n",
    "    fname=nametag,\n",
    ")"
   ]
  },
  {
   "cell_type": "markdown",
   "metadata": {},
   "source": [
    "### Feature Level Visualization: Understand how clustering alters the structure of the feature space"
   ]
  },
  {
   "cell_type": "code",
   "execution_count": null,
   "metadata": {},
   "outputs": [],
   "source": [
    "i = 0\n",
    "_, X_train_cluster, y_train_cluster, y_clusters, *_ = run_g_hat_experiment(\n",
    "    X, y, test_size, k, M, fixed_seed, fixed_seed, i\n",
    ")\n",
    "plot_tsne_with_label_changes(\n",
    "    X_train_cluster, y_train_cluster, y_clusters, class_name=\"Disaster\"\n",
    ")"
   ]
  },
  {
   "cell_type": "markdown",
   "metadata": {
    "jp-MarkdownHeadingCollapsed": true
   },
   "source": [
    "# Pre Post"
   ]
  },
  {
   "cell_type": "code",
   "execution_count": null,
   "metadata": {},
   "outputs": [],
   "source": [
    "model, cfg = get_model_config(pre_post_config_path, ckpt_main_dir, device)\n",
    "datamodule, datamodule_train, datamodule_val, datamodule_test = prepare_datamodule(cfg)"
   ]
  },
  {
   "cell_type": "markdown",
   "metadata": {},
   "source": [
    "### Downsample Benchmark"
   ]
  },
  {
   "cell_type": "code",
   "execution_count": null,
   "metadata": {},
   "outputs": [],
   "source": [
    "nametag = (\n",
    "    cfg.id_ood_disaster[0][\"disaster_name\"]\n",
    "    + \"-\"\n",
    "    + cfg.id_ood_disaster[0][\"pre-post\"]\n",
    "    + \"_\"\n",
    "    + cfg.id_ood_disaster[1][\"disaster_name\"]\n",
    "    + \"-\"\n",
    "    + cfg.id_ood_disaster[1][\"pre-post\"]\n",
    ")\n",
    "\n",
    "for downsample in downsample_methods:\n",
    "    print(f\"Running experiments for {downsample} downsample method.\")\n",
    "    X, y, test_property_lengths = create_feature_matrix_and_labels(\n",
    "        model=model,\n",
    "        dm=datamodule,\n",
    "        train_dataloader=datamodule_train,\n",
    "        test_dataloader=datamodule_test,\n",
    "        layer_names=collect_activations_from_layers,\n",
    "        device=device,\n",
    "        getitem_keys=getitem_keys,\n",
    "        n_batches_to_process=n_batches_to_process,\n",
    "        downsample_method=downsample,\n",
    "        verbose=verbose,\n",
    "    )\n",
    "    print(\"Run g experiment for downsample method:\", downsample)\n",
    "    g_benchmark = run_g_experiment(\n",
    "        X, y, split_seed, test_size, n_estimators, fixed_classifier_seed, clf=None\n",
    "    )\n",
    "    \n",
    "    downsample_benchmark[downsample] = g_benchmark"
   ]
  },
  {
   "cell_type": "code",
   "execution_count": null,
   "metadata": {},
   "outputs": [],
   "source": [
    "plot_downsample_benchmark(downsample_benchmark, nametag)"
   ]
  },
  {
   "cell_type": "markdown",
   "metadata": {},
   "source": [
    "### Layer Benchmark"
   ]
  },
  {
   "cell_type": "code",
   "execution_count": null,
   "metadata": {},
   "outputs": [],
   "source": [
    "for lyr in selected_layers:\n",
    "    print(f\"Running experiments for layer {lyr}\")\n",
    "    X, y, test_property_lengths = create_feature_matrix_and_labels(\n",
    "        model=model,\n",
    "        dm=datamodule,\n",
    "        train_dataloader=datamodule_train,\n",
    "        test_dataloader=datamodule_test,\n",
    "        layer_names=lyr,\n",
    "        device=device,\n",
    "        getitem_keys=getitem_keys,\n",
    "        n_batches_to_process=n_batches_to_process,\n",
    "        downsample_method=downsample_method,\n",
    "        verbose=verbose,\n",
    "    )\n",
    "\n",
    "    g_benchmark = run_g_experiment(\n",
    "        X, y, split_seed, test_size, n_estimators, fixed_classifier_seed, clf=None\n",
    "    )\n",
    "    \n",
    "    layer_benchmark[str(lyr)] = g_benchmark"
   ]
  },
  {
   "cell_type": "code",
   "execution_count": null,
   "metadata": {},
   "outputs": [],
   "source": [
    "plot_layer_benchmark(layer_benchmark, all_layer_names, nametag)"
   ]
  },
  {
   "cell_type": "markdown",
   "metadata": {},
   "source": [
    "### Property extraction"
   ]
  },
  {
   "cell_type": "code",
   "execution_count": null,
   "metadata": {},
   "outputs": [],
   "source": [
    "all_layer_names = get_all_layer_names(model)"
   ]
  },
  {
   "cell_type": "code",
   "execution_count": null,
   "metadata": {},
   "outputs": [],
   "source": [
    "collect_activations_from_layers = [\"encoder.layer2.0.conv1\"]\n",
    "device = \"cuda\" if torch.cuda.is_available() else \"cpu\"\n",
    "getitem_keys = [\"image\", \"mask\"]\n",
    "n_batches_to_process = n_batches_to_process\n",
    "downsample_method = \"avg_pool\"\n",
    "verbose = False\n",
    "\n",
    "X, y, test_property_lengths = create_feature_matrix_and_labels(\n",
    "    model=model,\n",
    "    dm=datamodule,\n",
    "    train_dataloader=datamodule_train,\n",
    "    test_dataloader=datamodule_test,\n",
    "    layer_names=collect_activations_from_layers,\n",
    "    device=device,\n",
    "    getitem_keys=getitem_keys,\n",
    "    n_batches_to_process=n_batches_to_process,\n",
    "    downsample_method=downsample_method,\n",
    "    verbose=verbose,\n",
    ")"
   ]
  },
  {
   "cell_type": "markdown",
   "metadata": {},
   "source": [
    "### g confidence interval"
   ]
  },
  {
   "cell_type": "code",
   "execution_count": null,
   "metadata": {},
   "outputs": [],
   "source": [
    "g_benchmark = run_multiple_experiments_g(\n",
    "    X, y, test_size, n_estimators, random_seed=True\n",
    ")"
   ]
  },
  {
   "cell_type": "code",
   "execution_count": null,
   "metadata": {},
   "outputs": [],
   "source": [
    "# Calculate confidence intervals for the specified columns\n",
    "columns_of_interest = [\"baseline_accuracy\", \"baseline_fpr95\", \"baseline_roc_auc\"]\n",
    "confidence_intervals_g = calculate_confidence_intervals(\n",
    "    g_benchmark, columns_of_interest\n",
    ")\n",
    "confidence_intervals_g"
   ]
  },
  {
   "cell_type": "markdown",
   "metadata": {},
   "source": [
    "### g_hat"
   ]
  },
  {
   "cell_type": "code",
   "execution_count": null,
   "metadata": {},
   "outputs": [],
   "source": [
    "results_df_g_hat = run_optuna_study(\n",
    "    X,\n",
    "    y,\n",
    "    n_optuna_trials,\n",
    "    test_size,\n",
    "    min_cluster,\n",
    "    max_cluster_ratio,\n",
    "    min_fraction,\n",
    "    max_fraction,\n",
    "    n_estimators,\n",
    "    fixed_seed,\n",
    ")"
   ]
  },
  {
   "cell_type": "code",
   "execution_count": null,
   "metadata": {},
   "outputs": [],
   "source": [
    "N = 10\n",
    "results_dict = results_df_g_hat.to_dict(orient=\"records\")\n",
    "k = int(len(X) * 0.3)\n",
    "M = results_dict[0][\"M\"]\n",
    "print(\"k, M, len(X), k/len(X)\", k, M, len(X), k / len(X))\n",
    "\n",
    "g_hat_benchmark = run_multiple_experiments_g_hat(X, y, test_size, k, M, N, fixed_seed)"
   ]
  },
  {
   "cell_type": "markdown",
   "metadata": {},
   "source": [
    "### g g_hat mean std + ttest"
   ]
  },
  {
   "cell_type": "code",
   "execution_count": null,
   "metadata": {},
   "outputs": [],
   "source": [
    "t_tests_results = perform_benchmark_analysis(g_benchmark, g_hat_benchmark)\n",
    "t_tests_results"
   ]
  },
  {
   "cell_type": "markdown",
   "metadata": {},
   "source": [
    "### Benchmark g"
   ]
  },
  {
   "cell_type": "code",
   "execution_count": null,
   "metadata": {},
   "outputs": [],
   "source": [
    "classifier_benchmark_df = benchmark_classifiers(\n",
    "    X, y, test_size, k, M, classifiers, fixed_seed\n",
    ")"
   ]
  },
  {
   "cell_type": "markdown",
   "metadata": {},
   "source": [
    "### Benchmark clustering"
   ]
  },
  {
   "cell_type": "code",
   "execution_count": null,
   "metadata": {},
   "outputs": [],
   "source": [
    "# A fixed classifier\n",
    "classifier = classifiers['RandomForest']\n",
    "\n",
    "clustering_benchmark_df = benchmark_clustering_methods(\n",
    "    X, y, test_size, k, M, clustering_methods, classifier\n",
    ")\n",
    "\n",
    "clustering_benchmark_df"
   ]
  },
  {
   "cell_type": "markdown",
   "metadata": {},
   "source": [
    "### Investigate k wrt g-g_hat"
   ]
  },
  {
   "cell_type": "code",
   "execution_count": null,
   "metadata": {},
   "outputs": [],
   "source": [
    "print(\"confidence_intervals_g\", confidence_intervals_g)\n",
    "\n",
    "df_results = benchmark_kmeans_with_varying_k_condidence_g_hat(\n",
    "    X,\n",
    "    y,\n",
    "    M,\n",
    "    test_size,\n",
    "    n_runs=10,\n",
    "    confidence_level=0.95,\n",
    "    confidence_intervals_g=confidence_intervals_g,\n",
    "    clf=None,\n",
    ")"
   ]
  },
  {
   "cell_type": "markdown",
   "metadata": {},
   "source": [
    "### Feature Level Visualization: Understand how clustering alters the structure of the feature space"
   ]
  },
  {
   "cell_type": "code",
   "execution_count": null,
   "metadata": {},
   "outputs": [],
   "source": [
    "i = 0\n",
    "_, X_train_cluster, y_train_cluster, y_clusters, *_ = run_g_hat_experiment(\n",
    "    X, y, test_size, k, M, fixed_seed, fixed_seed, i\n",
    ")\n",
    "plot_tsne_with_label_changes(\n",
    "    X_train_cluster, y_train_cluster, y_clusters, class_name=\"Disaster\"\n",
    ")"
   ]
  }
 ],
 "metadata": {
  "kernelspec": {
   "display_name": "Python 3 (ipykernel)",
   "language": "python",
   "name": "python3"
  },
  "language_info": {
   "codemirror_mode": {
    "name": "ipython",
    "version": 3
   },
   "file_extension": ".py",
   "mimetype": "text/x-python",
   "name": "python",
   "nbconvert_exporter": "python",
   "pygments_lexer": "ipython3",
   "version": "3.11.10"
  }
 },
 "nbformat": 4,
 "nbformat_minor": 4
}
